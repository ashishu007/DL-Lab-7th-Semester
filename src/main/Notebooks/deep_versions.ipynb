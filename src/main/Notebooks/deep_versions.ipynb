{
 "cells": [
  {
   "cell_type": "code",
   "execution_count": 1,
   "metadata": {},
   "outputs": [
    {
     "name": "stderr",
     "output_type": "stream",
     "text": [
      "/home/ashish/anaconda3/lib/python3.6/site-packages/h5py/__init__.py:36: FutureWarning: Conversion of the second argument of issubdtype from `float` to `np.floating` is deprecated. In future, it will be treated as `np.float64 == np.dtype(float).type`.\n",
      "  from ._conv import register_converters as _register_converters\n",
      "Using TensorFlow backend.\n"
     ]
    }
   ],
   "source": [
    "import keras"
   ]
  },
  {
   "cell_type": "code",
   "execution_count": 2,
   "metadata": {},
   "outputs": [
    {
     "name": "stdout",
     "output_type": "stream",
     "text": [
      " scipy: 1.1.0 \n",
      " numpy: 1.14.3 \n",
      " matplotlib: 2.2.2 \n",
      " pandas: 0.23.0 \n",
      " statsmodels: 0.9.0 \n",
      " sklearn: 0.19.1 \n"
     ]
    }
   ],
   "source": [
    "# scipy\n",
    "import scipy\n",
    "print( ' scipy: %s ' % scipy.__version__)\n",
    "# numpy\n",
    "import numpy\n",
    "print( ' numpy: %s ' % numpy.__version__)\n",
    "# matplotlib\n",
    "import matplotlib\n",
    "print( ' matplotlib: %s ' % matplotlib.__version__)\n",
    "# pandas\n",
    "import pandas\n",
    "print( ' pandas: %s ' % pandas.__version__)\n",
    "# statsmodels\n",
    "import statsmodels\n",
    "print( ' statsmodels: %s ' % statsmodels.__version__)\n",
    "# scikit-learn\n",
    "import sklearn\n",
    "print( ' sklearn: %s ' % sklearn.__version__)"
   ]
  },
  {
   "cell_type": "code",
   "execution_count": 3,
   "metadata": {},
   "outputs": [
    {
     "name": "stdout",
     "output_type": "stream",
     "text": [
      " theano: 1.0.2 \n",
      " tensorflow: 1.9.0 \n",
      " keras: 2.1.6 \n"
     ]
    }
   ],
   "source": [
    "# theano\n",
    "import theano\n",
    "print( ' theano: %s ' % theano.__version__)\n",
    "# tensorflow\n",
    "import tensorflow\n",
    "print( ' tensorflow: %s ' % tensorflow.__version__)\n",
    "# keras\n",
    "import keras\n",
    "print( ' keras: %s ' % keras.__version__)"
   ]
  },
  {
   "cell_type": "code",
   "execution_count": null,
   "metadata": {},
   "outputs": [],
   "source": []
  }
 ],
 "metadata": {
  "kernelspec": {
   "display_name": "Python 3",
   "language": "python",
   "name": "python3"
  },
  "language_info": {
   "codemirror_mode": {
    "name": "ipython",
    "version": 3
   },
   "file_extension": ".py",
   "mimetype": "text/x-python",
   "name": "python",
   "nbconvert_exporter": "python",
   "pygments_lexer": "ipython3",
   "version": "3.6.5"
  }
 },
 "nbformat": 4,
 "nbformat_minor": 2
}
